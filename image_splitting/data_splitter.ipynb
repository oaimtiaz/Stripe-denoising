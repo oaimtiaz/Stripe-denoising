{
 "cells": [
  {
   "cell_type": "code",
   "execution_count": 1,
   "metadata": {},
   "outputs": [],
   "source": [
    "import numpy as np\n",
    "import random"
   ]
  },
  {
   "cell_type": "code",
   "execution_count": 2,
   "metadata": {},
   "outputs": [],
   "source": [
    "arr = np.array([\n",
    "    [0,1,2,3,4],\n",
    "    [5,6,7,8,9],\n",
    "    [10,11,12,13,14]\n",
    "])"
   ]
  },
  {
   "cell_type": "code",
   "execution_count": 98,
   "metadata": {},
   "outputs": [],
   "source": [
    "def split_data(data, chunk_size):\n",
    "    FLIP_THRESHOLD = 0.5\n",
    "    ROTATE_THRESHOLD = 0.3\n",
    "    num_vertical = data.shape[0]//chunk_size\n",
    "    if data.shape[0] % chunk_size != 0:\n",
    "        num_vertical += 1\n",
    "    num_horizontal = data.shape[1]//chunk_size\n",
    "    if data.shape[1] % chunk_size != 0:\n",
    "        num_horizontal += 1\n",
    "    \n",
    "    chunks = []\n",
    "    \n",
    "    for i in range(num_vertical):\n",
    "        for j in range(num_horizontal):\n",
    "            tmp = None\n",
    "            if i == num_vertical - 1 or j == num_horizontal - 1:\n",
    "                if i == num_vertical - 1 and j == num_horizontal - 1:\n",
    "                    tmp = data[i*chunk_size:,j*chunk_size]\n",
    "                elif i == num_vertical -1:\n",
    "                    tmp = data[i*chunk_size:,j*chunk_size:(j+1)*chunk_size]\n",
    "                else:\n",
    "                    tmp = data[i*chunk_size:(i+1)*chunk_size,j*chunk_size:(j+1)*chunk_size]\n",
    "            \n",
    "            else:\n",
    "                tmp = data[i*chunk_size:(i+1)*chunk_size,j*chunk_size:(j+1)*chunk_size]\n",
    "            \n",
    "            if tmp.ndim == 1:\n",
    "                tmp = tmp.reshape(-1,1)\n",
    "            if random.random() > FLIP_THRESHOLD:\n",
    "                # print(\"Flipping lr \", i, j)\n",
    "                tmp = np.fliplr(tmp)\n",
    "            if random.random() > FLIP_THRESHOLD:\n",
    "                # print(\"Flipping ud \", i, j)\n",
    "                tmp = np.flipud(tmp)\n",
    "            if random.random() > ROTATE_THRESHOLD:\n",
    "                num_rotations = random.randint(1, 3)\n",
    "                # print(\"Flipping\", num_rotations, \"times\", i,j)\n",
    "                for _ in range(num_rotations):\n",
    "                    tmp = np.rot90(tmp)\n",
    "            chunks.append(tmp)\n",
    "    return chunks"
   ]
  },
  {
   "cell_type": "code",
   "execution_count": 99,
   "metadata": {},
   "outputs": [],
   "source": [
    "CHUNK_SIZE=2"
   ]
  },
  {
   "cell_type": "code",
   "execution_count": 100,
   "metadata": {},
   "outputs": [],
   "source": [
    "split = split_data(arr, CHUNK_SIZE)\n",
    "print(split[])"
   ]
  },
  {
   "cell_type": "code",
   "execution_count": null,
   "metadata": {},
   "outputs": [],
   "source": []
  }
 ],
 "metadata": {
  "kernelspec": {
   "display_name": "Python 3",
   "language": "python",
   "name": "python3"
  },
  "language_info": {
   "codemirror_mode": {
    "name": "ipython",
    "version": 3
   },
   "file_extension": ".py",
   "mimetype": "text/x-python",
   "name": "python",
   "nbconvert_exporter": "python",
   "pygments_lexer": "ipython3",
   "version": "3.7.3"
  }
 },
 "nbformat": 4,
 "nbformat_minor": 4
}
