{
 "cells": [
  {
   "cell_type": "code",
   "execution_count": 1,
   "metadata": {},
   "outputs": [],
   "source": [
    "import numpy as np"
   ]
  },
  {
   "cell_type": "code",
   "execution_count": 2,
   "metadata": {},
   "outputs": [],
   "source": [
    "arr = np.array([\n",
    "    [0,1,2,3,4],\n",
    "    [5,6,7,8,9],\n",
    "    [10,11,12,13,14]\n",
    "])"
   ]
  },
  {
   "cell_type": "code",
   "execution_count": 3,
   "metadata": {},
   "outputs": [],
   "source": [
    "def split_data(data, chunk_size):\n",
    "    num_vertical = data.shape[0]//chunk_size\n",
    "    if data.shape[0] % chunk_size != 0:\n",
    "        num_vertical += 1\n",
    "    num_horizontal = data.shape[1]//chunk_size\n",
    "    if data.shape[1] % chunk_size != 0:\n",
    "        num_horizontal += 1\n",
    "    \n",
    "    chunks = []\n",
    "    \n",
    "    for i in range(num_vertical):\n",
    "        for j in range(num_horizontal):\n",
    "            if i == num_vertical - 1 or j == num_horizontal - 1:\n",
    "                if i == num_vertical - 1 and j == num_horizontal - 1:\n",
    "                    tmp = data[i*chunk_size:,j*chunk_size]\n",
    "                elif i == num_vertical -1:\n",
    "                    tmp = data[i*chunk_size:,j*chunk_size:(j+1)*chunk_size]\n",
    "                else:\n",
    "                    tmp = data[i*chunk_size:(i+1)*chunk_size,j*chunk_size:(j+1)*chunk_size]\n",
    "                if tmp.ndim == 1:\n",
    "                    tmp = tmp.reshape(-1,1)\n",
    "                chunks.append(tmp)\n",
    "            else:\n",
    "                chunks.append(data[i*chunk_size:(i+1)*chunk_size,j*chunk_size:(j+1)*chunk_size])\n",
    "    return chunks"
   ]
  },
  {
   "cell_type": "code",
   "execution_count": 4,
   "metadata": {},
   "outputs": [],
   "source": [
    "CHUNK_SIZE=2"
   ]
  },
  {
   "cell_type": "code",
   "execution_count": 5,
   "metadata": {},
   "outputs": [],
   "source": [
    "split = split_data(arr, CHUNK_SIZE)"
   ]
  },
  {
   "cell_type": "code",
   "execution_count": 6,
   "metadata": {},
   "outputs": [
    {
     "data": {
      "text/plain": [
       "array([[0, 1],\n",
       "       [5, 6]])"
      ]
     },
     "execution_count": 6,
     "metadata": {},
     "output_type": "execute_result"
    }
   ],
   "source": [
    "split[0]"
   ]
  },
  {
   "cell_type": "code",
   "execution_count": null,
   "metadata": {},
   "outputs": [],
   "source": []
  }
 ],
 "metadata": {
  "kernelspec": {
   "display_name": "Python 3",
   "language": "python",
   "name": "python3"
  },
  "language_info": {
   "codemirror_mode": {
    "name": "ipython",
    "version": 3
   },
   "file_extension": ".py",
   "mimetype": "text/x-python",
   "name": "python",
   "nbconvert_exporter": "python",
   "pygments_lexer": "ipython3",
   "version": "3.7.3"
  }
 },
 "nbformat": 4,
 "nbformat_minor": 4
}
