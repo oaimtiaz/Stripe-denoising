{
 "cells": [
  {
   "cell_type": "code",
   "execution_count": 7,
   "metadata": {},
   "outputs": [],
   "source": [
    "import numpy as np\n",
    "from os import listdir\n",
    "from os.path import join"
   ]
  },
  {
   "cell_type": "code",
   "execution_count": 2,
   "metadata": {},
   "outputs": [],
   "source": [
    "data_path = \"../data_simulation/data/\""
   ]
  },
  {
   "cell_type": "code",
   "execution_count": 8,
   "metadata": {},
   "outputs": [],
   "source": [
    "all_files = listdir(data_path)"
   ]
  },
  {
   "cell_type": "code",
   "execution_count": 11,
   "metadata": {},
   "outputs": [],
   "source": [
    "arr = np.load(join(data_path, all_files[0]))"
   ]
  },
  {
   "cell_type": "code",
   "execution_count": null,
   "metadata": {},
   "outputs": [],
   "source": [
    "def split_data(data, chunk_size):\n",
    "    num_vertical = data.size[0]//chunk_size\n",
    "    if data.size[0] % chunk_size != 0:\n",
    "        num_vertical += 1\n",
    "    num_horizontal = data.size[1]//chunk_size\n",
    "    if data.size[1] % chunk_size != 0:\n",
    "        num_horizontal += 1\n",
    "    \n",
    "    chunks = []\n",
    "    \n",
    "    for i in range(num_vertical):\n",
    "        for j in range(num_horizontal):\n",
    "            if i == num_vertical - 1 or j == num_horizontal - 1:\n",
    "            else:\n",
    "                chunks.append(data[i*chunk_size:(i+1)*chunk_size,j*chunk_size:(j+1)*chunk_size])"
   ]
  }
 ],
 "metadata": {
  "kernelspec": {
   "display_name": "Python 3",
   "language": "python",
   "name": "python3"
  },
  "language_info": {
   "codemirror_mode": {
    "name": "ipython",
    "version": 3
   },
   "file_extension": ".py",
   "mimetype": "text/x-python",
   "name": "python",
   "nbconvert_exporter": "python",
   "pygments_lexer": "ipython3",
   "version": "3.7.3"
  }
 },
 "nbformat": 4,
 "nbformat_minor": 4
}
