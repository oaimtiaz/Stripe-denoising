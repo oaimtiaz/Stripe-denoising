{
 "cells": [
  {
   "cell_type": "code",
   "execution_count": 1,
   "metadata": {},
   "outputs": [],
   "source": [
    "import numpy as np\n",
    "import matplotlib.pyplot as plt\n",
    "import bruges as bg\n",
    "from PIL import Image\n",
    "import pickle\n",
    "import random"
   ]
  },
  {
   "cell_type": "code",
   "execution_count": 2,
   "metadata": {},
   "outputs": [],
   "source": [
    "def contains_all_nums(strata, max_layers):\n",
    "    for i in range(0, max_layers):\n",
    "        if i not in strata:\n",
    "            return False\n",
    "    return True"
   ]
  },
  {
   "cell_type": "code",
   "execution_count": 3,
   "metadata": {},
   "outputs": [],
   "source": [
    "def calc_split_points(strata):\n",
    "    split_points = np.array([random.random() for _ in range(2)])\n",
    "    split_points *= random.randint(8, len(strata) - 2)/np.amax(split_points)\n",
    "    \n",
    "    split_points = np.round(split_points)\n",
    "    split_points = np.sort(split_points)\n",
    "    return split_points"
   ]
  },
  {
   "cell_type": "code",
   "execution_count": 4,
   "metadata": {},
   "outputs": [],
   "source": [
    "def make_random_wedges():\n",
    "    depth = (random.randint(600,1200), random.randint(800, 2000), random.randint(400,1200))\n",
    "    width = (random.randint(600,1200), random.randint(800, 2000), random.randint(400,1200))\n",
    "    mode = random.choice(['linear', 'clinoform'])\n",
    "    conformance = random.choice(['top', 'bottom', 'proportional'])\n",
    "    max_layers = random.randint(4, 10)\n",
    "    \n",
    "    strata = [random.randint(0, max_layers) for i in range(5, 20)]\n",
    "    while not contains_all_nums(strata, max_layers):\n",
    "        strata = [random.randint(0, max_layers) for i in range(5, 20)]\n",
    "    \n",
    "    threshold = random.randint(2, max(len(strata)//4,2))\n",
    "    split_points = calc_split_points(strata).astype('int8')\n",
    "    while split_points[1] - split_points[0] < threshold:\n",
    "            split_points = calc_split_points(strata).astype('int8')\n",
    "    upper_strata = tuple(strata[:split_points[0]])\n",
    "    middle_strata = tuple(strata[split_points[0]:split_points[1]])\n",
    "    lower_strata = tuple(strata[split_points[1]:])\n",
    "    starting_thickness = random.uniform(0, 2)\n",
    "    thickness=(starting_thickness, starting_thickness + random.uniform(0,2))\n",
    "    w, top, base, ref = bg.models.wedge(depth=depth,\n",
    "                                    width=width,\n",
    "                                    strat=tuple([upper_strata, middle_strata, lower_strata]),\n",
    "                                    mode=mode,\n",
    "                                    thickness=thickness,\n",
    "                                   )\n",
    "    return w"
   ]
  },
  {
   "cell_type": "code",
   "execution_count": 8,
   "metadata": {},
   "outputs": [],
   "source": [
    "num_samples = 100\n",
    "for i in range(num_samples):\n",
    "    done = False\n",
    "    while not done:\n",
    "        try:\n",
    "            w = make_random_wedges()\n",
    "            rocks = np.array([i+1 for i in (np.unique(w))])\n",
    "            # Fancy indexing into the rocks with the model.\n",
    "            impedance = rocks[w-1]\n",
    "            # Make reflectivity.\n",
    "            rc = (impedance[1:] - impedance[:-1]) / (impedance[1:] + impedance[:-1])\n",
    "            rc -= np.amin(rc)\n",
    "            rc *= 255/(np.amax(rc)-np.amin(rc))\n",
    "\n",
    "\n",
    "            impedance -= np.amin(impedance)\n",
    "            impedance = impedance.astype('float64')\n",
    "            impedance *= 255/(np.amax(impedance) - np.amin(impedance))\n",
    "            impedance = np.round(impedance).astype('int8')\n",
    "            Image.fromarray(rc).convert(\"RGB\").convert(\"L\").save(\"images/reflectivity_{}.png\".format(i+1))\n",
    "            Image.fromarray(impedance).convert(\"RGB\").convert(\"L\").save(\"images/impedance_{}.png\".format(i+1))\n",
    "\n",
    "            with open('data/reflectivity_{}.npy'.format(i+1), 'wb') as gen_file:\n",
    "                np.save(gen_file, rc)\n",
    "            with open('data/impedance_{}.npy'.format(i+1), 'wb') as gen_file:\n",
    "                np.save(gen_file, impedance)\n",
    "            done=True\n",
    "        except:\n",
    "            pass\n"
   ]
  },
  {
   "cell_type": "code",
   "execution_count": null,
   "metadata": {},
   "outputs": [],
   "source": []
  }
 ],
 "metadata": {
  "kernelspec": {
   "display_name": "Python 3",
   "language": "python",
   "name": "python3"
  }
 },
 "nbformat": 4,
 "nbformat_minor": 4
}
